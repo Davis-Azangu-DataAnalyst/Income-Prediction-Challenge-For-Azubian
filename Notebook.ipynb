{
 "cells": [
  {
<<<<<<< HEAD
   "cell_type": "code",
   "execution_count": null,
   "metadata": {
    "vscode": {
     "languageId": "plaintext"
    }
   },
   "outputs": [],
   "source": []
=======
   "cell_type": "markdown",
   "metadata": {},
   "source": [
    "# **Income Prediction Model**"
   ]
  },
  {
   "cell_type": "markdown",
   "metadata": {},
   "source": [
    "## **Introduction**"
   ]
  },
  {
   "cell_type": "markdown",
   "metadata": {},
   "source": [
    "Income inequality, where income is distributed unevenly among a population, is a growing problem in developing nations across the world. With the rapid rise of artificial intelligence (AI) and worker automation, this problem could continue to grow if steps are not taken to address the issue.\n",
    "\n",
    "The objective of this project is to create a machine learning model to predict whether an individual earns above or below a certain amount. This solution can potentially reduce costs and improve the accuracy of monitoring key population indicators such as income levels in between census years.\n",
    "\n",
    "Accurate income predictions can provide valuable insights that help policymakers better manage and avoid income inequality globally. By leveraging machine learning techniques, we aim to provide a robust tool for analyzing income distribution, which is crucial for developing effective socioeconomic policies and interventions.\n",
    "\n",
    "The project follows the CRISP-DM methodology as follows:\n",
    "- Business Understanding \n",
    "- Data Understanding\n",
    "- Data Preparation\n",
    "- Modelling\n",
    "- Evaluation\n",
    "- Deployment"
   ]
  },
  {
   "cell_type": "markdown",
   "metadata": {},
   "source": [
    "## **Business Understanding**"
   ]
  },
  {
   "cell_type": "markdown",
   "metadata": {},
   "source": [
    "#### **Business Objective**\n",
    "To address income inequality by providing accurate and timely predictions of individual income levels, aiding policymakers in their efforts to manage and reduce income disparity effectively.\n",
    "\n",
    "**Business Needs:** A model to accurately predict if an individual earns above 50,000 USD.\n",
    "\n",
    "#### **Project Goals**\n",
    "- To create a machine learning model to predict if an individual earns above 50,000 USD.\n",
    "- To create an API for user interaction\n",
    "\n",
    "#### **Hypotheses**\n",
    " \n",
    "Null Hypothesis (H0): There is no significant relationship between wages per hour and income level above 50,000 USD.\n",
    "\n",
    "Alternative Hypothesis (H1): There is a significant relationship between wages per hour and income level above 50,000 USD.\n",
    "\n",
    "#### **Analytical Questions**\n",
    "1. What are the key factors influencing whether an individual earns above 50,000 USD?\n",
    "2. How does the number of hours worked per week impact income level predictions?\n",
    "3. What role do education level and occupation play in determining income above the specified threshold?\n",
    "4. Are there any significant regional differences in income levels above 50,000 USD?\n",
    "5. How does industry type impact income level?\n",
    "\n",
    "#### **Timeline** **Week One:**\n",
    "- Data Collection & Cleaning\n",
    "- Exploratory Data Analysis\n",
    "- Feature Engineering\n",
    "- Model Building & Evaluation\n",
    "\n",
    "**Week Two:**\n",
    "- Model Tuning & Optimization\n",
    "- Final Model Evaluation\n",
    "- App Deployment\n",
    "- Documentation & Reporting"
   ]
  },
  {
   "cell_type": "markdown",
   "metadata": {},
   "source": [
    "## **Data Understanding**"
   ]
  },
  {
   "cell_type": "markdown",
   "metadata": {},
   "source": [
    "Load Necessary Packages"
   ]
  },
  {
   "cell_type": "code",
   "execution_count": null,
   "metadata": {},
   "outputs": [],
   "source": [
    "# Data handling packages \n",
    "import pandas as pd\n",
    "import numpy as np \n",
    "\n",
    "# Visualization packages\n",
    "import matplotlib.pyplot as plt \n",
    "import seaborn as sns\n",
    "import plotly.express as px\n",
    "import plotly.graph_objects as go\n",
    "\n",
    "# Feature Processing packages\n",
    "from sklearn.preprocessing import StandardScaler, MinMaxScaler, LabelEncoder\n",
    "from sklearn.model_selection import train_test_split\n",
    "from sklearn.compose import ColumnTransformer\n",
    "from sklearn.preprocessing import StandardScaler, OneHotEncoder\n",
    "from sklearn.impute import SimpleImputer\n",
    "from sklearn.preprocessing import RobustScaler, FunctionTransformer\n",
    "from sklearn.pipeline import Pipeline\n",
    "from sklearn.metrics import classification_report\n",
    "from sklearn.feature_selection import SelectKBest, mutual_info_classif as Mutual_Info_Classif\n",
    "from imblearn.over_sampling import SMOTE\n",
    "from imblearn.pipeline import Pipeline as imbPipeline\n",
    "from sklearn.metrics import confusion_matrix\n",
    "\n",
    "# Machine Learning packages\n",
    "from sklearn.linear_model import LogisticRegression\n",
    "from sklearn.svm import SVC\n",
    "from sklearn.svm import SVC\n",
    "from sklearn.linear_model import SGDClassifier, LogisticRegression\n",
    "from sklearn.ensemble import RandomForestClassifier, GradientBoostingClassifier\n",
    "\n",
    "# Hyperparameters Fine-tuning packages\n",
    "from sklearn.model_selection import GridSearchCV, RandomizedSearchCV, cross_val_score, StratifiedKFold\n",
    "\n",
    "import joblib\n"
   ]
>>>>>>> c27acd6303e32061f549dd0ea871d83107e8c36c
  }
 ],
 "metadata": {
  "language_info": {
   "name": "python"
  }
 },
 "nbformat": 4,
 "nbformat_minor": 2
}
