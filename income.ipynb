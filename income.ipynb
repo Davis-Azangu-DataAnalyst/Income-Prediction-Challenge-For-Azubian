{
 "cells": [
  {
   "cell_type": "markdown",
   "metadata": {},
   "source": [
    "## BUSINESS UNDERSTANDING \n",
    "\n",
    "Income inequality - when income is distributed in an uneven manner among a population - is a growing problem in developing nations across the world. With the rapid rise of AI and worker automation, this problem could continue to grow if steps are not taken to address the issue.\n",
    "\n",
    "**Goal** - Create a machine learning model to predict whether an individual earns above or below a certain amount\n",
    "\n",
    "**Objectives**\n",
    "1. Reduce the cost and improve the accuracy of monitoring key population indicators such as income level in between census years.\n",
    "2. Help policymakers to better manage and avoid income inequality globally.\n",
    "\n",
    "**Hypothesis**\n",
    " \n",
    "***Null hypothesis*** - Age is not a considerable factor in income inequality.\n",
    "\n",
    "***Alternative hypothesis*** - Age is a considerable factor in income inequality.\n",
    "\n",
    "**Analytical questions**\n",
    "1. Which gender is unfavoured when it comes to income inequality?\n",
    "2. Is education a factor of income inequality?\n",
    "3. Does age contribute to the risk of income inequality?\n",
    "4. Which industry has the highest risk of income inequality?\n",
    "5. Does tax status contribute to the income limit?\n",
    "6. The relationship of marital status to income inequality?\n",
    "7. Does race influence income inequality?"
   ]
  }
 ],
 "metadata": {
  "language_info": {
   "name": "python"
  }
 },
 "nbformat": 4,
 "nbformat_minor": 2
}
